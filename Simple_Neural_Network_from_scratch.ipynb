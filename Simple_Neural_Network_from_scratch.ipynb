{
 "cells": [
  {
   "cell_type": "code",
   "execution_count": 1,
   "metadata": {},
   "outputs": [],
   "source": [
    "import numpy as np\n",
    "import pandas as pd\n",
    "import random"
   ]
  },
  {
   "cell_type": "code",
   "execution_count": 9,
   "metadata": {},
   "outputs": [],
   "source": [
    "num_inputs = 5\n",
    "num_hidden_layers = 3\n",
    "nodes_output_layer = 1\n",
    "nodes_per_hidden_layer = [3,2,3]\n",
    "network = {}\n",
    "num_previous = num_inputs"
   ]
  },
  {
   "cell_type": "code",
   "execution_count": 4,
   "metadata": {},
   "outputs": [
    {
     "name": "stdout",
     "output_type": "stream",
     "text": [
      "<class 'dict'>\n"
     ]
    }
   ],
   "source": [
    "print(type(network))"
   ]
  },
  {
   "cell_type": "code",
   "execution_count": 10,
   "metadata": {},
   "outputs": [
    {
     "name": "stdout",
     "output_type": "stream",
     "text": [
      "Hidden layer  1\n",
      "Hidden layer  2\n",
      "Hidden layer  3\n",
      "Arrived at output layer\n",
      "{1: {1: {'weights': array([-0.28949331, -0.10201558, -0.68982442, -0.28630262,  1.09264876]), 'bias': array([0.81990949])}, 2: {'weights': array([ 1.13322459, -0.11619676, -1.99549728,  0.22978688, -1.42865333]), 'bias': array([0.46750853])}, 3: {'weights': array([-0.48801369,  0.4134276 ,  0.01076571,  0.60521566,  1.41446495]), 'bias': array([0.87246873])}}, 2: {1: {'weights': array([-0.50693127, -0.0380964 ,  0.90584786]), 'bias': array([0.68430093])}, 2: {'weights': array([0.40195978, 0.28943266, 0.28363421]), 'bias': array([0.7869988])}, 3: {'weights': array([ 0.41378563,  0.69055057, -2.03497528]), 'bias': array([0.21435473])}}, 3: {1: {'weights': array([ 1.36700064,  0.59178042, -0.64844209]), 'bias': array([0.588756])}, 2: {'weights': array([-1.93506721,  0.18831981,  0.27097986]), 'bias': array([0.55395334])}, 3: {'weights': array([ 0.92976263, -1.77602147, -0.79794299]), 'bias': array([0.84104781])}}, 4: {1: {'weights': array([-1.27527518,  0.3750426 ,  0.60351921]), 'bias': array([0.82510723])}}}\n"
     ]
    }
   ],
   "source": [
    "for layer in range(num_hidden_layers+1):\n",
    "    if layer == num_hidden_layers:\n",
    "        print('Arrived at output layer')\n",
    "        num_nodes = nodes_output_layer\n",
    "    else:\n",
    "        i = 0\n",
    "        print('Hidden layer ',layer+1)\n",
    "        num_nodes = nodes_per_hidden_layer[i]\n",
    "        i+=1\n",
    "    network[layer+1] = {}\n",
    "    for j in range(num_nodes):\n",
    "        network[layer+1][j+1] = {'weights':np.random.normal(size = num_previous),'bias':np.random.uniform(size=1)}\n",
    "    num_previous = num_nodes\n",
    "print(network)"
   ]
  },
  {
   "cell_type": "code",
   "execution_count": null,
   "metadata": {},
   "outputs": [],
   "source": []
  },
  {
   "cell_type": "code",
   "execution_count": null,
   "metadata": {},
   "outputs": [],
   "source": []
  },
  {
   "cell_type": "code",
   "execution_count": null,
   "metadata": {},
   "outputs": [],
   "source": []
  },
  {
   "cell_type": "code",
   "execution_count": null,
   "metadata": {},
   "outputs": [],
   "source": []
  },
  {
   "cell_type": "code",
   "execution_count": null,
   "metadata": {},
   "outputs": [],
   "source": []
  },
  {
   "cell_type": "code",
   "execution_count": null,
   "metadata": {},
   "outputs": [],
   "source": []
  },
  {
   "cell_type": "code",
   "execution_count": null,
   "metadata": {},
   "outputs": [],
   "source": []
  },
  {
   "cell_type": "code",
   "execution_count": null,
   "metadata": {},
   "outputs": [],
   "source": []
  }
 ],
 "metadata": {
  "kernelspec": {
   "display_name": "Python 3",
   "language": "python",
   "name": "python3"
  },
  "language_info": {
   "codemirror_mode": {
    "name": "ipython",
    "version": 3
   },
   "file_extension": ".py",
   "mimetype": "text/x-python",
   "name": "python",
   "nbconvert_exporter": "python",
   "pygments_lexer": "ipython3",
   "version": "3.8.5"
  }
 },
 "nbformat": 4,
 "nbformat_minor": 4
}
