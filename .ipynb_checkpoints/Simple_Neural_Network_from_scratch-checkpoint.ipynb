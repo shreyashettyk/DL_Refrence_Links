{
 "cells": [
  {
   "cell_type": "code",
   "execution_count": 20,
   "metadata": {},
   "outputs": [],
   "source": [
    "import numpy as np\n",
    "import pandas as pd\n",
    "import random\n",
    "import math"
   ]
  },
  {
   "cell_type": "code",
   "execution_count": 21,
   "metadata": {},
   "outputs": [],
   "source": [
    "num_inputs = 2\n",
    "num_hidden_layers = 2\n",
    "nodes_output_layer = 1\n",
    "nodes_per_hidden_layer = [2,2]\n",
    "network = {}\n",
    "num_previous = num_inputs"
   ]
  },
  {
   "cell_type": "code",
   "execution_count": 4,
   "metadata": {},
   "outputs": [
    {
     "name": "stdout",
     "output_type": "stream",
     "text": [
      "<class 'dict'>\n"
     ]
    }
   ],
   "source": [
    "print(type(network))"
   ]
  },
  {
   "cell_type": "code",
   "execution_count": 22,
   "metadata": {},
   "outputs": [
    {
     "name": "stdout",
     "output_type": "stream",
     "text": [
      "Hidden layer  1\n",
      "Hidden layer  2\n",
      "Arrived at output layer\n",
      "{1: {1: {'weights': array([-0.50141346, -1.65870284]), 'bias': array([0.94002982])}, 2: {'weights': array([-0.53128038,  1.02973269]), 'bias': array([0.17541045])}}, 2: {1: {'weights': array([ 0.78148842, -0.65438103]), 'bias': array([0.01525497])}, 2: {'weights': array([1.61898166, 1.54160517]), 'bias': array([0.10514769])}}, 3: {1: {'weights': array([-0.40803994, -0.10392514]), 'bias': array([0.89041156])}}}\n"
     ]
    }
   ],
   "source": [
    "for layer in range(num_hidden_layers+1):\n",
    "    if layer == num_hidden_layers:\n",
    "        print('Arrived at output layer')\n",
    "        num_nodes = nodes_output_layer\n",
    "    else:\n",
    "        i = 0\n",
    "        print('Hidden layer ',layer+1)\n",
    "        num_nodes = nodes_per_hidden_layer[i]\n",
    "        i+=1\n",
    "    network[layer+1] = {}\n",
    "    for j in range(num_nodes):\n",
    "        network[layer+1][j+1] = {'weights':np.random.normal(size = num_previous),'bias':np.random.uniform(size=1)}\n",
    "    num_previous = num_nodes\n",
    "print(network)"
   ]
  },
  {
   "cell_type": "code",
   "execution_count": 23,
   "metadata": {},
   "outputs": [],
   "source": [
    "def weighted_sum(inputs,weight,bias):\n",
    "    print('weight ',weight)\n",
    "    print('input ',inputs)\n",
    "    \n",
    "    return np.add(np.dot(weight,inputs),bias)"
   ]
  },
  {
   "cell_type": "code",
   "execution_count": 24,
   "metadata": {},
   "outputs": [],
   "source": [
    "def activation_computation(weighted_sum):\n",
    "    return 1/(1+math.exp(-1*weighted_sum))"
   ]
  },
  {
   "cell_type": "code",
   "execution_count": 6,
   "metadata": {},
   "outputs": [],
   "source": [
    "x = {1:{'a':{'as':10,'bass':20}}}"
   ]
  },
  {
   "cell_type": "code",
   "execution_count": 25,
   "metadata": {},
   "outputs": [],
   "source": [
    "def forward_propogation(network,net_in):\n",
    "    layer_input = list(net_in)\n",
    "    for layer in list(network.keys()):\n",
    "        layer_data = network[layer]\n",
    "        layer_output = list()\n",
    "        for node in list(layer_data.keys()):\n",
    "            node_info = layer_data[node]\n",
    "            layer_output.append(activation_computation(weighted_sum(layer_input,node_info['weights'],node_info['bias'])))\n",
    "        print('Layer output ',layer_output)\n",
    "        layer_input = layer_output\n",
    "        "
   ]
  },
  {
   "cell_type": "code",
   "execution_count": 26,
   "metadata": {},
   "outputs": [
    {
     "name": "stdout",
     "output_type": "stream",
     "text": [
      "weight  [-0.50141346 -1.65870284]\n",
      "input  [0.5, 0.25]\n",
      "weight  [-0.53128038  1.02973269]\n",
      "input  [0.5, 0.25]\n",
      "Layer output  [0.5682334723381672, 0.5417037451284401]\n",
      "weight  [ 0.78148842 -0.65438103]\n",
      "input  [0.5682334723381672, 0.5417037451284401]\n",
      "weight  [1.61898166 1.54160517]\n",
      "input  [0.5682334723381672, 0.5417037451284401]\n",
      "Layer output  [0.5261865660322593, 0.8653203223795763]\n",
      "weight  [-0.40803994 -0.10392514]\n",
      "input  [0.5261865660322593, 0.8653203223795763]\n",
      "Layer output  [0.6423958130996676]\n"
     ]
    }
   ],
   "source": [
    "x1 = 0.5\n",
    "x2 = 0.25\n",
    "inputs = [x1,x2]\n",
    "forward_propogation(network,inputs)"
   ]
  },
  {
   "cell_type": "code",
   "execution_count": 45,
   "metadata": {},
   "outputs": [
    {
     "data": {
      "text/plain": [
       "array([21, 22])"
      ]
     },
     "execution_count": 45,
     "metadata": {},
     "output_type": "execute_result"
    }
   ],
   "source": [
    "x = np.array([1,2])\n",
    "y = 20\n",
    "np.add(x,y)"
   ]
  },
  {
   "cell_type": "code",
   "execution_count": null,
   "metadata": {},
   "outputs": [],
   "source": []
  },
  {
   "cell_type": "code",
   "execution_count": null,
   "metadata": {},
   "outputs": [],
   "source": []
  }
 ],
 "metadata": {
  "kernelspec": {
   "display_name": "Python 3",
   "language": "python",
   "name": "python3"
  },
  "language_info": {
   "codemirror_mode": {
    "name": "ipython",
    "version": 3
   },
   "file_extension": ".py",
   "mimetype": "text/x-python",
   "name": "python",
   "nbconvert_exporter": "python",
   "pygments_lexer": "ipython3",
   "version": "3.8.5"
  }
 },
 "nbformat": 4,
 "nbformat_minor": 4
}
